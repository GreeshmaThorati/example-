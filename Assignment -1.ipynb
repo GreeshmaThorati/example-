{
 "cells": [
  {
   "cell_type": "code",
   "execution_count": 3,
   "id": "2c4eae79",
   "metadata": {},
   "outputs": [
    {
     "name": "stdout",
     "output_type": "stream",
     "text": [
      "Enter a number : 10\n",
      "Square of the 10 is 100\n"
     ]
    }
   ],
   "source": [
    "# 1. Ask the user enter a number . Print out the square of the number.\n",
    "num=int(input(\"Enter a number : \"))\n",
    "square = num**2\n",
    "print(f\"Square of the {num} is {square}\")"
   ]
  },
  {
   "cell_type": "code",
   "execution_count": 11,
   "id": "9975435d",
   "metadata": {},
   "outputs": [
    {
     "name": "stdout",
     "output_type": "stream",
     "text": [
      "Enter a number:5\n",
      "5---10---15---20---25\n"
     ]
    }
   ],
   "source": [
    "# 2. Ask the user enter a number x.print out x,2x,3x,4x,5x each separate by three ---\n",
    "x=int(input(\"Enter a number:\")) \n",
    "val1=x\n",
    "val2=2*x\n",
    "val3=3*x\n",
    "val4=4*x\n",
    "val5=5*x\n",
    "print(f\"{val1}---{val2}---{val3}---{val4}---{val5}\")"
   ]
  },
  {
   "cell_type": "code",
   "execution_count": 16,
   "id": "eb559f28",
   "metadata": {},
   "outputs": [
    {
     "name": "stdout",
     "output_type": "stream",
     "text": [
      "Enter the weight in kilograms :45\n",
      "Enter the weight in pounds is 99.00000000000001\n"
     ]
    }
   ],
   "source": [
    "# 3. wap that asks the user for a weight in kilograms and convert it into pounds \n",
    "weight=eval(input(\"Enter the weight in kilograms :\"))\n",
    "pounds=weight * 2.2\n",
    "print(f\"Enter the weight in pounds is {pounds}\")"
   ]
  },
  {
   "cell_type": "code",
   "execution_count": 17,
   "id": "868a39d2",
   "metadata": {},
   "outputs": [
    {
     "name": "stdout",
     "output_type": "stream",
     "text": [
      "Enter the value of num1 :1\n",
      "Enter the value of num2 :2\n",
      "Enter the value of num3 :3\n",
      "The sum of three values is : 6 \n",
      "The avg of three values is : 2.0 \n"
     ]
    }
   ],
   "source": [
    "# 4. wap to ask the user enter three nums and find out avg and total\n",
    "num1=eval(input(\"Enter the value of num1 :\"))\n",
    "num2=eval(input(\"Enter the value of num2 :\"))\n",
    "num3=eval(input(\"Enter the value of num3 :\"))\n",
    "total=num1+num2+num3\n",
    "avg=total/3\n",
    "print(f\"The sum of three values is : {total} \")\n",
    "print(f\"The avg of three values is : {avg} \")\n"
   ]
  },
  {
   "cell_type": "code",
   "execution_count": 21,
   "id": "8c8641be",
   "metadata": {},
   "outputs": [
    {
     "name": "stdout",
     "output_type": "stream",
     "text": [
      "Enter the bill amount:1000\n",
      "Enter the tip percentage on the bill amount :25\n",
      "The tip is : 250.0\n",
      "The total bill amount is : 1250.0\n"
     ]
    }
   ],
   "source": [
    "# 5. wap to ask the user enter bill and percentage of tip on bill and calculate total bill \n",
    "bill=eval(input(\"Enter the bill amount:\"))\n",
    "tip_per=eval(input(\"Enter the tip percentage on the bill amount :\"))\n",
    "tip=bill*tip_per/100\n",
    "print(f\"The tip is : {tip}\")\n",
    "total_bill=bill+tip\n",
    "print(f\"The total bill amount is : {total_bill}\")"
   ]
  },
  {
   "cell_type": "code",
   "execution_count": 2,
   "id": "a36ac08e",
   "metadata": {},
   "outputs": [
    {
     "name": "stdout",
     "output_type": "stream",
     "text": [
      "Father: Hey baby!\n",
      "Daughter: Hello Daddy\n",
      "Father: I heard your exams are over, what about result\n",
      "Daughter: yes dad! results are out\n",
      "Father: What is the percentage?\n",
      "Daughter:I will give my subject wise marks,you tell me the percentage \n",
      "Father: okay!\n",
      "Enter the marks in first language:80\n",
      "Enter the marks in second language:90\n",
      "Enter the marks in third language:90\n",
      "Enter the marks in maths:85\n",
      "Enter the marks in science:80\n",
      "Daughter:Dad Now tell me how much percentage i got\n",
      "Father: Now tell me the max marks of each subject\n",
      "Daughter: its 100\n",
      "Father: The toatl percentage of your marks is : 85.0\n"
     ]
    }
   ],
   "source": [
    "# 6.\n",
    "print(\"Father: Hey baby!\")\n",
    "print(\"Daughter: Hello Daddy\")\n",
    "print(\"Father: I heard your exams are over, what about result\")\n",
    "print(\"Daughter: yes dad! results are out\")\n",
    "print(\"Father: What is the percentage?\")\n",
    "print(\"Daughter:I will give my subject wise marks,you tell me the percentage \")\n",
    "print(\"Father: okay!\")\n",
    "lang1=eval(input(\"Enter the marks in first language:\"))\n",
    "lang2=eval(input(\"Enter the marks in second language:\"))\n",
    "lang3=eval(input(\"Enter the marks in third language:\"))\n",
    "maths=eval(input(\"Enter the marks in maths:\"))\n",
    "science=eval(input(\"Enter the marks in science:\"))\n",
    "print(\"Daughter:Dad Now tell me how much percentage i got\")\n",
    "print(\"Father: Now tell me the max marks of each subject\")\n",
    "print(\"Daughter: its 100\")\n",
    "total_max_marks=500\n",
    "total_marks_got=lang1+lang2+lang3+maths+science\n",
    "percentage=total_marks_got/total_max_marks*100\n",
    "print(f\"Father: The toatl percentage of your marks is : {percentage}\")\n",
    "\n"
   ]
  },
  {
   "cell_type": "code",
   "execution_count": null,
   "id": "806e2e04",
   "metadata": {},
   "outputs": [],
   "source": []
  },
  {
   "cell_type": "code",
   "execution_count": null,
   "id": "d9458e27",
   "metadata": {},
   "outputs": [],
   "source": [
    "\n"
   ]
  },
  {
   "cell_type": "code",
   "execution_count": null,
   "id": "a3d41f1a",
   "metadata": {},
   "outputs": [],
   "source": []
  },
  {
   "cell_type": "code",
   "execution_count": null,
   "id": "5668bae4",
   "metadata": {},
   "outputs": [],
   "source": []
  },
  {
   "cell_type": "code",
   "execution_count": null,
   "id": "22b7d41d",
   "metadata": {},
   "outputs": [],
   "source": []
  }
 ],
 "metadata": {
  "kernelspec": {
   "display_name": "Python 3 (ipykernel)",
   "language": "python",
   "name": "python3"
  },
  "language_info": {
   "codemirror_mode": {
    "name": "ipython",
    "version": 3
   },
   "file_extension": ".py",
   "mimetype": "text/x-python",
   "name": "python",
   "nbconvert_exporter": "python",
   "pygments_lexer": "ipython3",
   "version": "3.11.5"
  }
 },
 "nbformat": 4,
 "nbformat_minor": 5
}
